{
 "cells": [
  {
   "cell_type": "markdown",
   "id": "4ef4485e",
   "metadata": {},
   "source": [
    "# Ch9 Classes"
   ]
  },
  {
   "cell_type": "markdown",
   "id": "7b465366",
   "metadata": {},
   "source": [
    "### Python is an object oriented programming language.\n",
    "- Almost everything in Python is an object, with its properties and methods (Functions).\n",
    "- A Class is like an object constructor, or a \"blueprint\" for creating objects."
   ]
  },
  {
   "cell_type": "code",
   "execution_count": 13,
   "id": "741b88de",
   "metadata": {},
   "outputs": [
    {
     "name": "stdout",
     "output_type": "stream",
     "text": [
      "The email of first employee: angie.hill@company.com\n",
      "First name of employee 1: Angie\n",
      "Last name of employee 1: Hill\n",
      "Age name of employee 2: 35\n",
      "Email name of employee 2: peter.white@company.com\n",
      "The fullname : Angie Hill\n",
      "The fullname : Peter White\n"
     ]
    }
   ],
   "source": [
    "class Employee(): #name of the class\n",
    "#init is the constructor of the class. It is mandatory for a class construction    \n",
    "#self is used to represent the instance of the class    \n",
    "    def __init__(self,first,last,age,department): \n",
    "        #method/function\n",
    "        self.first=first.title()\n",
    "        self.last=last.title()\n",
    "        self.age=age\n",
    "        self.department=department.title()\n",
    "        self.email=first.lower()+\".\"+last.lower()+\"@company.com\"\n",
    "   \n",
    "    #creating a method called fullname. It needs only the instance    \n",
    "    def fullname(self):\n",
    "        print(f\"The fullname : {self.first} {self.last}\")\n",
    "        \n",
    "#init will run automatically when you call the class    \n",
    "emp_1=Employee(\"angie\",\"hill\",20,\"accounting\")\n",
    "emp_2=Employee(\"PETER\",\"WHITE\",35,\"finance\")\n",
    "\n",
    "print(f\"The email of first employee: {emp_1.email}\")\n",
    "print(f\"First name of employee 1: {emp_1.first}\")\n",
    "print(f\"Last name of employee 1: {emp_1.last}\")\n",
    "print(f\"Age name of employee 2: {emp_2.age}\")\n",
    "print(f\"Email name of employee 2: {emp_2.email}\")\n",
    "#print(f\"Full name of employee 1: {emp_1.first} {emp_1.last}\")\n",
    "#print(f\"Full name of employee 2: {emp_2.first} {emp_2.last}\")\n",
    "emp_1.fullname()\n",
    "emp_2.fullname()"
   ]
  },
  {
   "cell_type": "code",
   "execution_count": null,
   "id": "a9136cf8",
   "metadata": {},
   "outputs": [],
   "source": []
  },
  {
   "cell_type": "markdown",
   "id": "5d60f7c0",
   "metadata": {},
   "source": [
    "### Creating the Dog Class\n",
    "Each instance created from the Dog class will store a name and an age, and we’ll give each dog the ability to sit() and roll_over():"
   ]
  },
  {
   "cell_type": "code",
   "execution_count": 18,
   "id": "6e84155c",
   "metadata": {},
   "outputs": [
    {
     "name": "stdout",
     "output_type": "stream",
     "text": [
      "Shelly\n",
      "4\n",
      "Shelly is now sitting\n",
      "Shelly is rolled over\n",
      "Shelly is laying down\n",
      "Clipsie\n",
      "10\n",
      "Clipsie is now sitting\n",
      "Clipsie is rolled over\n",
      "Clipsie is shaking my hand\n",
      "Clipsie is barking at me\n",
      "Clipsie is laying down\n"
     ]
    }
   ],
   "source": [
    "class dog():\n",
    "    def __init__(self,name,age):\n",
    "        self.name=name.title()\n",
    "        self.age=age\n",
    "    def sit(self):\n",
    "        print(f\"{self.name} is now sitting\")\n",
    "    def roll_over(self):\n",
    "        print(f\"{self.name} is rolled over\")\n",
    "    def shake(self):\n",
    "        print(f\"{self.name} is shaking my hand\")\n",
    "    def bark(self):\n",
    "        print(f\"{self.name} is barking at me\")\n",
    "    def down(self):\n",
    "        print(f\"{self.name} is laying down\")\n",
    "        \n",
    "        \n",
    "dog1=dog(\"Shelly\",4)\n",
    "print(dog1.name)\n",
    "print(dog1.age)\n",
    "dog1.sit()\n",
    "dog1.roll_over()\n",
    "dog1.down()\n",
    "\n",
    "dog2=dog(\"Clipsie\",10)\n",
    "print(dog2.name)\n",
    "print(dog2.age)\n",
    "dog2.sit()\n",
    "dog2.roll_over()\n",
    "dog2.shake()\n",
    "dog2.bark()\n",
    "dog2.down()"
   ]
  },
  {
   "cell_type": "code",
   "execution_count": null,
   "id": "3c70e9c0",
   "metadata": {},
   "outputs": [],
   "source": []
  },
  {
   "cell_type": "markdown",
   "id": "8bbcc5c0",
   "metadata": {},
   "source": [
    "#### Note:\n",
    "- By convention, capitalized names refer to classes in Python. \n",
    "- The parentheses in the class definition are empty because we’re creating this class from scratch.\n",
    "- All classes have a function called __init__(), which is always executed when the class is being initiated.\n",
    "- Use the __init__() function to assign values to object properties, or other operations that are necessary to do when the object is being created\n",
    "- Any variable prefixed with `self` is available to every method in the class, and we’ll also be able to access these variables through any instance created from the class.\n",
    "- The Dog class has two other methods defined: sit() and roll_over().Because these methods don’t need additional information like a name or age, we just define them to have one parameter, self."
   ]
  },
  {
   "cell_type": "markdown",
   "id": "402f0696",
   "metadata": {},
   "source": [
    "### Restaurant: Make a class called Restaurant. The __init__() method for Restaurant should store two attributes: a restaurant_name and a cuisine_type.\n",
    "- Make a method called `describe_restaurant()` that prints name of teh restrurent and the cuisine type\n",
    "- and a method called open_restaurant() that prints a message indicating that the restaurant is open.\n",
    "- Make an instance called restaurant from your class. Print the two attributes individually, and then call both methods.\n"
   ]
  },
  {
   "cell_type": "code",
   "execution_count": 21,
   "id": "c4316b2d",
   "metadata": {},
   "outputs": [
    {
     "name": "stdout",
     "output_type": "stream",
     "text": [
      "Restaurant name: The Mean Queen\n",
      "Cuisine type: Pizza\n",
      "The Mean Queen serves wonderful Pizza.\n",
      "The Mean Queen is now open. Come on in\n"
     ]
    }
   ],
   "source": [
    "class Restaurant():\n",
    "    \n",
    "    def __init__(self,name,cuisine_type):\n",
    "        self.name=name.title()\n",
    "        self.cuisine_type=cuisine_type\n",
    "    def describe_restaurant(self):\n",
    "        print(f\"{self.name} serves wonderful {self.cuisine_type}.\")\n",
    "    def open_restaurant(self):\n",
    "        print(f\"{self.name} is now open. Come on in\")\n",
    "        \n",
    "restaurant1=Restaurant(\"The mean Queen\", \"Pizza\")\n",
    "print(f\"Restaurant name: {restaurant1.name}\")\n",
    "print(f\"Cuisine type: {restaurant1.cuisine_type}\")\n",
    "restaurant1.describe_restaurant()\n",
    "restaurant1.open_restaurant()"
   ]
  },
  {
   "cell_type": "code",
   "execution_count": null,
   "id": "f9be3f46",
   "metadata": {},
   "outputs": [],
   "source": []
  },
  {
   "cell_type": "markdown",
   "id": "8b4a4fca",
   "metadata": {},
   "source": [
    "### - Create three different instances from the class, and call describe_restaurant() for each instance."
   ]
  },
  {
   "cell_type": "code",
   "execution_count": 23,
   "id": "b3845fe0",
   "metadata": {},
   "outputs": [
    {
     "name": "stdout",
     "output_type": "stream",
     "text": [
      "El Napol serves wonderful Mexican.\n"
     ]
    }
   ],
   "source": [
    "restaurant2=Restaurant(\"El Napol\", \"Mexican\")\n",
    "restaurant2.describe_restaurant()"
   ]
  },
  {
   "cell_type": "code",
   "execution_count": 24,
   "id": "e6aa8a33",
   "metadata": {},
   "outputs": [
    {
     "name": "stdout",
     "output_type": "stream",
     "text": [
      "Dragon Kings Daughter serves wonderful Sushi.\n"
     ]
    }
   ],
   "source": [
    "restaurant3=Restaurant(\"Dragon Kings Daughter\", \"Sushi\")\n",
    "restaurant3.describe_restaurant()"
   ]
  },
  {
   "cell_type": "code",
   "execution_count": 25,
   "id": "6b24e6f1",
   "metadata": {},
   "outputs": [
    {
     "name": "stdout",
     "output_type": "stream",
     "text": [
      "Cold Stone serves wonderful Ice Cream.\n"
     ]
    }
   ],
   "source": [
    "restaurant4=Restaurant(\"Cold Stone\", \"Ice Cream\")\n",
    "restaurant4.describe_restaurant()"
   ]
  },
  {
   "cell_type": "markdown",
   "id": "8f4032c6",
   "metadata": {},
   "source": [
    "### Users: Make a class called User. Create attributes called first_name and last_name, username, location \n",
    "- Make a method called describe_user() that prints a summary of the user’s information. \n",
    "- Make another method called greet_user() that prints a personalized greeting to the user.\n",
    "- Create several instances representing different users, and call both methods for each user."
   ]
  },
  {
   "cell_type": "code",
   "execution_count": 29,
   "id": "dda94ce2",
   "metadata": {},
   "outputs": [
    {
     "name": "stdout",
     "output_type": "stream",
     "text": [
      "\n",
      "Eric Matthews\n",
      "\tThe username for Eric is: e_matthews\n",
      "\tThe location is: Alaska\n",
      "\n",
      "Welcome back Eric\n"
     ]
    }
   ],
   "source": [
    "class User(): \n",
    "    def __init__(self,first_name,last_name,username,location):\n",
    "        self.first_name=first_name.title()\n",
    "        self.last_name=last_name.title()\n",
    "        self.username=username\n",
    "        self.location=location.title()\n",
    "        \n",
    "    def describe_user(self):\n",
    "        print(f\"\\n{self.first_name} {self.last_name}\")\n",
    "        print(f\"\\tThe username for {self.first_name} is: {self.username}\")\n",
    "        print(f\"\\tThe location is: {self.location}\")\n",
    "        \n",
    "    def greet_user(self):\n",
    "        print(f\"\\nWelcome back {self.first_name}\")\n",
    "user1=User('eric','matthews','e_matthews','alaska')\n",
    "user1.describe_user()\n",
    "user1.greet_user()"
   ]
  },
  {
   "cell_type": "code",
   "execution_count": 31,
   "id": "8864d617",
   "metadata": {},
   "outputs": [
    {
     "name": "stdout",
     "output_type": "stream",
     "text": [
      "\n",
      "Willie Barker\n",
      "\tThe username for Willie is: w_barker\n",
      "\tThe location is: Alaska\n",
      "\n",
      "Welcome back Willie\n"
     ]
    }
   ],
   "source": [
    "user2=User('willie', 'barker','w_barker','alaska')\n",
    "user2.describe_user()\n",
    "user2.greet_user()"
   ]
  },
  {
   "cell_type": "markdown",
   "id": "8b5bfff2",
   "metadata": {},
   "source": [
    "## Setting a Default Value for an Attribute\n",
    "* create a class called 'car' which contain make, model, and year\n",
    "* add the 'odometer_reading' default to zero\n",
    "* create a method called 'get_descriptive_name' which return the car informations\n",
    "* create a method called 'read_odometer' which will display the odometer reading of the car\n",
    "* create teo car attributes to test the code"
   ]
  },
  {
   "cell_type": "code",
   "execution_count": 45,
   "id": "bbdc7a10",
   "metadata": {},
   "outputs": [],
   "source": [
    "class car():\n",
    "    #create a class called 'car' which contain make, model, and year\n",
    "    def __init__(self,make,model,year):\n",
    "        self.make=make\n",
    "        self.model=model\n",
    "        self.year=year\n",
    "        #add the 'odometer_reading' default to zero\n",
    "        self.odometer_reading=0\n",
    "    def get_descriptive_name(self):\n",
    "        long_name= str(self.year)+ \" \"+ self.make +\" \"+ self.model\n",
    "        return long_name.title()\n",
    "    \n",
    "    def read_odometer(self):\n",
    "        print(f\"This car has {self.odometer_reading} miles on it\")\n"
   ]
  },
  {
   "cell_type": "code",
   "execution_count": 46,
   "id": "35859896",
   "metadata": {},
   "outputs": [
    {
     "name": "stdout",
     "output_type": "stream",
     "text": [
      "My car: 2019 Nissan Versa\n",
      "Friends car: 2018 Hyundai Elantra\n",
      "This car has 0 miles on it\n",
      "This car has 0 miles on it\n"
     ]
    }
   ],
   "source": [
    "my_car=car('Nissan', 'Versa', 2019)\n",
    "friends_car=car('Hyundai', 'Elantra', 2018)\n",
    "print(f\"My car: {my_car.get_descriptive_name()}\")\n",
    "print(f\"Friends car: {friends_car.get_descriptive_name()}\")\n",
    "\n",
    "\n",
    "my_car.read_odometer()\n",
    "friends_car.read_odometer()"
   ]
  },
  {
   "cell_type": "code",
   "execution_count": null,
   "id": "9ea6316b",
   "metadata": {},
   "outputs": [],
   "source": []
  },
  {
   "cell_type": "markdown",
   "id": "3f840f3e",
   "metadata": {},
   "source": [
    "#### Modifying the odometer reading without the method"
   ]
  },
  {
   "cell_type": "code",
   "execution_count": 47,
   "id": "6f8fa540",
   "metadata": {},
   "outputs": [
    {
     "name": "stdout",
     "output_type": "stream",
     "text": [
      "This car has 23 miles on it\n"
     ]
    }
   ],
   "source": [
    "my_car.odometer_reading=23 #override the default value\n",
    "my_car.read_odometer()"
   ]
  },
  {
   "cell_type": "code",
   "execution_count": 48,
   "id": "2f382418",
   "metadata": {},
   "outputs": [
    {
     "name": "stdout",
     "output_type": "stream",
     "text": [
      "This car has 10 miles on it\n"
     ]
    }
   ],
   "source": [
    "friends_car.odometer_reading=10\n",
    "friends_car.read_odometer()"
   ]
  },
  {
   "cell_type": "markdown",
   "id": "27f8f244",
   "metadata": {},
   "source": [
    "### Modifying an Attribute’s Value Through a Method"
   ]
  },
  {
   "cell_type": "code",
   "execution_count": 53,
   "id": "9b3ae956",
   "metadata": {},
   "outputs": [],
   "source": [
    "class car():\n",
    "    #create a class called 'car' which contain make, model, and year\n",
    "    def __init__(self,make,model,year):\n",
    "        self.make=make\n",
    "        self.model=model\n",
    "        self.year=year\n",
    "        #add the 'odometer_reading' default to zero\n",
    "        self.odometer_reading=0\n",
    "    def get_descriptive_name(self):\n",
    "        long_name= str(self.year)+ \" \"+ self.make +\" \"+ self.model\n",
    "        return long_name.title()\n",
    "    \n",
    "    def read_odometer(self):\n",
    "        print(f\"This car has {self.odometer_reading} miles on it\")\n",
    "    def update_odometer(self,mileage):\n",
    "        self.odometer_reading=mileage\n",
    "        print(f\"Current odometer reading: {self.odometer_reading}\")\n",
    "\n"
   ]
  },
  {
   "cell_type": "code",
   "execution_count": 54,
   "id": "3c3c57c2",
   "metadata": {},
   "outputs": [
    {
     "name": "stdout",
     "output_type": "stream",
     "text": [
      "The car information 2019 Nissan Versa\n",
      "This car has 0 miles on it\n",
      "Current odometer reading: 23\n"
     ]
    }
   ],
   "source": [
    "my_car=car('Nissan', 'Versa', 2019)\n",
    "print(\"The car information\",my_car.get_descriptive_name())\n",
    "my_car.read_odometer()\n",
    "my_car.update_odometer(23)"
   ]
  },
  {
   "cell_type": "markdown",
   "id": "fd560131",
   "metadata": {},
   "source": [
    "### Incrementing an Attribute’s Value Through a Method"
   ]
  },
  {
   "cell_type": "code",
   "execution_count": 55,
   "id": "8d76b884",
   "metadata": {},
   "outputs": [],
   "source": [
    "class car():\n",
    "    #create a class called 'car' which contain make, model, and year\n",
    "    def __init__(self,make,model,year):\n",
    "        self.make=make\n",
    "        self.model=model\n",
    "        self.year=year\n",
    "        #add the 'odometer_reading' default to zero\n",
    "        self.odometer_reading=0\n",
    "    def get_descriptive_name(self):\n",
    "        long_name= str(self.year)+ \" \"+ self.make +\" \"+ self.model\n",
    "        return long_name.title()\n",
    "    \n",
    "    def read_odometer(self):\n",
    "        print(f\"This car has {self.odometer_reading} miles on it\")\n",
    "    def update_odometer(self,mileage):\n",
    "        self.odometer_reading=mileage\n",
    "        print(f\"Current odometer reading: {self.odometer_reading}\")\n",
    "        \n",
    "    def incremental_odometer(self,miles):\n",
    "        self.odometer_reading+=miles\n",
    "        print(f\"The updated odometer reading {self.odometer_reading}\")\n",
    "\n",
    "\n"
   ]
  },
  {
   "cell_type": "code",
   "execution_count": 57,
   "id": "1500c7e7",
   "metadata": {},
   "outputs": [
    {
     "name": "stdout",
     "output_type": "stream",
     "text": [
      "The car information 2019 Nissan Versa\n",
      "This car has 0 miles on it\n",
      "Current odometer reading: 23\n",
      "The updated odometer reading 123\n",
      "The updated odometer reading 1123\n"
     ]
    }
   ],
   "source": [
    "my_car=car('Nissan', 'Versa', 2019)\n",
    "print(\"The car information\",my_car.get_descriptive_name())\n",
    "my_car.read_odometer()\n",
    "my_car.update_odometer(23)\n",
    "my_car.incremental_odometer(100)\n",
    "my_car.incremental_odometer(1000)"
   ]
  },
  {
   "cell_type": "markdown",
   "id": "b96f0d18",
   "metadata": {},
   "source": [
    "# Inheritance\n",
    "- You don’t always have to start from scratch when writing a class. If the class you’re writing is a specialized version of another class you wrote, you can use inheritance. \n",
    "- When one class inherits from another, it automatically takes on all the attributes and methods of the first class. The original class is called the `parent class`, and the new class is the `child class`. \n",
    "- The child class inherits every attribute and method from its parent class but is also free to define new attributes and methods of its own."
   ]
  },
  {
   "cell_type": "markdown",
   "id": "c65db561",
   "metadata": {},
   "source": [
    "### Parent class = polygon\n",
    "* create a method called calc_parimeter"
   ]
  },
  {
   "cell_type": "code",
   "execution_count": 60,
   "id": "07cbb387",
   "metadata": {},
   "outputs": [],
   "source": [
    "class polygon:\n",
    "    def __init__(self, side_length):\n",
    "        self.side_length=side_length\n",
    "        \n",
    "    def perimeter(self):\n",
    "        return sum(self.side_length)"
   ]
  },
  {
   "cell_type": "code",
   "execution_count": 63,
   "id": "34de9649",
   "metadata": {},
   "outputs": [
    {
     "name": "stdout",
     "output_type": "stream",
     "text": [
      "23\n"
     ]
    }
   ],
   "source": [
    "some_shape=polygon([1,3,5,6,8])\n",
    "print(some_shape.perimeter())"
   ]
  },
  {
   "cell_type": "code",
   "execution_count": 64,
   "id": "67047c7a",
   "metadata": {},
   "outputs": [
    {
     "name": "stdout",
     "output_type": "stream",
     "text": [
      "177\n"
     ]
    }
   ],
   "source": [
    "another_shape=polygon([2,56,65,12,34,8])\n",
    "print(another_shape.perimeter())"
   ]
  },
  {
   "cell_type": "markdown",
   "id": "5b594c20",
   "metadata": {},
   "source": [
    "### Practice: Create a class named Person, with firstname and lastname properties, and a printname method:"
   ]
  },
  {
   "cell_type": "markdown",
   "id": "9cbdd8d9",
   "metadata": {},
   "source": [
    "### Create a child class called triangle and calculate the perimeter and the area"
   ]
  },
  {
   "cell_type": "code",
   "execution_count": 65,
   "id": "95ec469a",
   "metadata": {},
   "outputs": [],
   "source": [
    "class Triangle(polygon):\n",
    "    def __init__(self,side_length):\n",
    "        super().__init__(side_length)\n",
    "        \n",
    "    def area(self):\n",
    "        a,b,c=self.side_length #unpacking the input variables\n",
    "        s=(a+b+c)/2\n",
    "        return (s*(s-a)*(s-b)*(s-c))**.5 #area formula"
   ]
  },
  {
   "cell_type": "code",
   "execution_count": 67,
   "id": "53498ae8",
   "metadata": {},
   "outputs": [
    {
     "name": "stdout",
     "output_type": "stream",
     "text": [
      "The perimeter is 12\n",
      "The area is 6.0\n"
     ]
    }
   ],
   "source": [
    "a_triangle=Triangle([3,4,5])\n",
    "print(f\"The perimeter is {a_triangle.perimeter()}\")\n",
    "print(f\"The area is {a_triangle.area()}\")"
   ]
  },
  {
   "cell_type": "markdown",
   "id": "5ee4cd99",
   "metadata": {},
   "source": [
    "### Create a child class called square and calculate the perimeter and the area"
   ]
  },
  {
   "cell_type": "code",
   "execution_count": 68,
   "id": "bd425c14",
   "metadata": {},
   "outputs": [],
   "source": [
    "class Square(polygon):\n",
    "    def __init__(self,side_length):\n",
    "        super().__init__(side_length)\n",
    "        \n",
    "    def area(self):\n",
    "        a,b,c,d=self.side_length\n",
    "        return a**2 #all sides are the same\n",
    "    "
   ]
  },
  {
   "cell_type": "code",
   "execution_count": 70,
   "id": "32a5a54f",
   "metadata": {},
   "outputs": [
    {
     "name": "stdout",
     "output_type": "stream",
     "text": [
      "The area is 4\n",
      "The perimeter is 8\n"
     ]
    }
   ],
   "source": [
    "a_square=Square([2,2,2,2])\n",
    "print(f\"The area is {a_square.area()}\")\n",
    "print(f\"The perimeter is {a_square.perimeter()}\")"
   ]
  },
  {
   "cell_type": "markdown",
   "id": "83342d15",
   "metadata": {},
   "source": [
    "### Create a child class called rectangle and calculate the perimeter and the area"
   ]
  },
  {
   "cell_type": "code",
   "execution_count": 71,
   "id": "41d833d4",
   "metadata": {},
   "outputs": [],
   "source": [
    "class Rectangle(polygon):\n",
    "    def __init__(self,side_length):\n",
    "        super().__init__(side_length)\n",
    "        \n",
    "    def area(self):\n",
    "        a,b,c,d=self.side_length\n",
    "        if a!=b:\n",
    "            result=a*b\n",
    "        elif a!=c:\n",
    "            result=a*c\n",
    "        else:\n",
    "            result=a*d\n",
    "        return result"
   ]
  },
  {
   "cell_type": "code",
   "execution_count": 75,
   "id": "7d233591",
   "metadata": {},
   "outputs": [
    {
     "name": "stdout",
     "output_type": "stream",
     "text": [
      "The area is 6\n",
      "The perimeter is 10\n"
     ]
    }
   ],
   "source": [
    "a_rectangle=Rectangle([2,2,3,3])\n",
    "print(f\"The area is {a_rectangle.area()}\")\n",
    "print(f\"The perimeter is {a_rectangle.perimeter()}\")"
   ]
  },
  {
   "cell_type": "markdown",
   "id": "a8023470",
   "metadata": {},
   "source": [
    "### Create child classes called Student using Inheritance contains the first and last name and the graduation year \n",
    "- Add a method called `welcome` that prints the student graduation year\n",
    "- Test the student method for two students"
   ]
  },
  {
   "cell_type": "code",
   "execution_count": 76,
   "id": "8a1571d5",
   "metadata": {},
   "outputs": [],
   "source": [
    "class person():\n",
    "    def __init__(self,fname,lname):\n",
    "        self.fname=fname.title()\n",
    "        self.lname=lname.title()\n",
    "    def print_name(self):\n",
    "        print(f\"Fullname: {self.fname} {self.lname}\")"
   ]
  },
  {
   "cell_type": "code",
   "execution_count": 78,
   "id": "5816f6a4",
   "metadata": {},
   "outputs": [
    {
     "name": "stdout",
     "output_type": "stream",
     "text": [
      "Fullname: John Smith\n",
      "Fullname: Sarah Martin\n"
     ]
    }
   ],
   "source": [
    "person1=person('john','smith')\n",
    "person2=person('sarah','martin')\n",
    "person1.print_name()\n",
    "person2.print_name()"
   ]
  },
  {
   "cell_type": "code",
   "execution_count": 79,
   "id": "d16506fc",
   "metadata": {},
   "outputs": [],
   "source": [
    "class student(person):\n",
    "    def __init__(self,fname,lname,year):\n",
    "        super().__init__(fname,lname)\n",
    "        self.year=year\n",
    "    def welcome(self):\n",
    "        print(f\"Welcome, {self.fname} {self.lname} to the class of {self.year}\")"
   ]
  },
  {
   "cell_type": "code",
   "execution_count": 80,
   "id": "71d9de80",
   "metadata": {},
   "outputs": [
    {
     "name": "stdout",
     "output_type": "stream",
     "text": [
      "Fullname: John Smith\n",
      "Welcome, John Smith to the class of 2027\n"
     ]
    }
   ],
   "source": [
    "student1=student(\"john\", \"smith\", 2027)\n",
    "student1.print_name()\n",
    "student1.welcome()"
   ]
  },
  {
   "cell_type": "markdown",
   "id": "e86d3008",
   "metadata": {},
   "source": [
    "## Lambda Function"
   ]
  },
  {
   "cell_type": "markdown",
   "id": "2f758663",
   "metadata": {},
   "source": [
    "### a lambda function construction:\n",
    "lambda argument(s): expression"
   ]
  },
  {
   "cell_type": "code",
   "execution_count": 84,
   "id": "777904a6",
   "metadata": {},
   "outputs": [],
   "source": [
    "#identity function returns the argument\n",
    "def identity(x):\n",
    "    return x"
   ]
  },
  {
   "cell_type": "code",
   "execution_count": 85,
   "id": "1b70e237",
   "metadata": {},
   "outputs": [
    {
     "data": {
      "text/plain": [
       "3"
      ]
     },
     "execution_count": 85,
     "metadata": {},
     "output_type": "execute_result"
    }
   ],
   "source": [
    "identity(3)"
   ]
  },
  {
   "cell_type": "code",
   "execution_count": 86,
   "id": "3250307b",
   "metadata": {},
   "outputs": [
    {
     "data": {
      "text/plain": [
       "2"
      ]
     },
     "execution_count": 86,
     "metadata": {},
     "output_type": "execute_result"
    }
   ],
   "source": [
    "(lambda x:x)(2) # (lambda argument: expression)(input)"
   ]
  },
  {
   "cell_type": "code",
   "execution_count": 87,
   "id": "546aad6b",
   "metadata": {},
   "outputs": [
    {
     "data": {
      "text/plain": [
       "4"
      ]
     },
     "execution_count": 87,
     "metadata": {},
     "output_type": "execute_result"
    }
   ],
   "source": [
    "(lambda x:x+1)(3)"
   ]
  },
  {
   "cell_type": "code",
   "execution_count": 88,
   "id": "b8d5f5fa",
   "metadata": {},
   "outputs": [],
   "source": [
    "# as lambda is a function we can store it to a variable\n",
    "add_one=lambda x:x+1"
   ]
  },
  {
   "cell_type": "code",
   "execution_count": 89,
   "id": "2e2601bc",
   "metadata": {},
   "outputs": [
    {
     "data": {
      "text/plain": [
       "4"
      ]
     },
     "execution_count": 89,
     "metadata": {},
     "output_type": "execute_result"
    }
   ],
   "source": [
    "add_one(3)"
   ]
  },
  {
   "cell_type": "markdown",
   "id": "bd50eeb5",
   "metadata": {},
   "source": [
    "### common use of lambda function\n",
    "* it is used with interables which is a series of values\n",
    "* python interables are list, dictionary, tuple, strings...\n",
    "* two common function works with lambda function are filter(), map()"
   ]
  },
  {
   "cell_type": "markdown",
   "id": "9b850d9e",
   "metadata": {},
   "source": [
    "### filter( )"
   ]
  },
  {
   "cell_type": "markdown",
   "id": "87d0e94b",
   "metadata": {},
   "source": [
    "#### example: we have alist [1,2,3,4,5,6,7,8,9,10]. we are only interested in even numbers "
   ]
  },
  {
   "cell_type": "code",
   "execution_count": 90,
   "id": "b577aa10",
   "metadata": {},
   "outputs": [
    {
     "data": {
      "text/plain": [
       "[2, 4, 6, 8, 10]"
      ]
     },
     "execution_count": 90,
     "metadata": {},
     "output_type": "execute_result"
    }
   ],
   "source": [
    "list1=[1,2,3,4,5,6,7,8,9,10]\n",
    "list(filter(lambda x:x%2==0, list1))"
   ]
  },
  {
   "cell_type": "code",
   "execution_count": 93,
   "id": "5d69d84b",
   "metadata": {},
   "outputs": [
    {
     "data": {
      "text/plain": [
       "[1, 3, 5, 7, 9]"
      ]
     },
     "execution_count": 93,
     "metadata": {},
     "output_type": "execute_result"
    }
   ],
   "source": [
    "list(filter(lambda x:x%2==1, list1))"
   ]
  },
  {
   "cell_type": "code",
   "execution_count": 94,
   "id": "56a338d7",
   "metadata": {},
   "outputs": [
    {
     "data": {
      "text/plain": [
       "[3, 6, 9]"
      ]
     },
     "execution_count": 94,
     "metadata": {},
     "output_type": "execute_result"
    }
   ],
   "source": [
    "#number multiple of 3\n",
    "list(filter(lambda x:x%3==0, list1))"
   ]
  },
  {
   "cell_type": "markdown",
   "id": "26686eaa",
   "metadata": {},
   "source": [
    "### map( )\n",
    "* use whenever you want to update or modify every value in an interable"
   ]
  },
  {
   "cell_type": "code",
   "execution_count": 95,
   "id": "54d6a20a",
   "metadata": {},
   "outputs": [
    {
     "data": {
      "text/plain": [
       "[1, 4, 9, 16, 25, 36, 49, 64, 81, 100]"
      ]
     },
     "execution_count": 95,
     "metadata": {},
     "output_type": "execute_result"
    }
   ],
   "source": [
    "#create a new list of power of 2\n",
    "list1=[1,2,3,4,5,6,7,8,9,10]\n",
    "list(map(lambda x:pow(x,2), list1))"
   ]
  },
  {
   "cell_type": "code",
   "execution_count": 96,
   "id": "a2090214",
   "metadata": {},
   "outputs": [
    {
     "data": {
      "text/plain": [
       "[1, 8, 27, 64, 125, 216, 343, 512, 729, 1000]"
      ]
     },
     "execution_count": 96,
     "metadata": {},
     "output_type": "execute_result"
    }
   ],
   "source": [
    "#cube of each number\n",
    "list(map(lambda y:pow(y,3), list1))"
   ]
  },
  {
   "cell_type": "markdown",
   "id": "742ddda4",
   "metadata": {},
   "source": [
    "## Example"
   ]
  },
  {
   "cell_type": "code",
   "execution_count": 97,
   "id": "19295def",
   "metadata": {},
   "outputs": [
    {
     "data": {
      "text/plain": [
       "6"
      ]
     },
     "execution_count": 97,
     "metadata": {},
     "output_type": "execute_result"
    }
   ],
   "source": [
    "(lambda x,y,z:x+y+z)(1,2,3)"
   ]
  },
  {
   "cell_type": "code",
   "execution_count": 98,
   "id": "0631b070",
   "metadata": {},
   "outputs": [
    {
     "data": {
      "text/plain": [
       "5"
      ]
     },
     "execution_count": 98,
     "metadata": {},
     "output_type": "execute_result"
    }
   ],
   "source": [
    "(lambda x,y,z=2:x+y+z)(1,2)"
   ]
  },
  {
   "cell_type": "code",
   "execution_count": 99,
   "id": "34b73cd5",
   "metadata": {},
   "outputs": [
    {
     "data": {
      "text/plain": [
       "3"
      ]
     },
     "execution_count": 99,
     "metadata": {},
     "output_type": "execute_result"
    }
   ],
   "source": [
    "(lambda x,y,z=2:x+y+z)(1,2,0) #override the z value"
   ]
  },
  {
   "cell_type": "code",
   "execution_count": 100,
   "id": "6c1475fc",
   "metadata": {},
   "outputs": [
    {
     "data": {
      "text/plain": [
       "23"
      ]
     },
     "execution_count": 100,
     "metadata": {},
     "output_type": "execute_result"
    }
   ],
   "source": [
    "(lambda *args:sum(args))(1,2,3,4,5,8)"
   ]
  },
  {
   "cell_type": "markdown",
   "id": "1c3bdd60",
   "metadata": {},
   "source": [
    "### Exception handling"
   ]
  },
  {
   "cell_type": "code",
   "execution_count": 101,
   "id": "421c485f",
   "metadata": {},
   "outputs": [
    {
     "ename": "ZeroDivisionError",
     "evalue": "division by zero",
     "output_type": "error",
     "traceback": [
      "\u001b[0;31m---------------------------------------------------------------------------\u001b[0m",
      "\u001b[0;31mZeroDivisionError\u001b[0m                         Traceback (most recent call last)",
      "\u001b[0;32m/var/folders/q_/k5zmb9hs78n7mhfrwqvnb1fh0000gn/T/ipykernel_51159/1152173066.py\u001b[0m in \u001b[0;36m<module>\u001b[0;34m\u001b[0m\n\u001b[0;32m----> 1\u001b[0;31m \u001b[0mprint\u001b[0m\u001b[0;34m(\u001b[0m\u001b[0;36m5\u001b[0m\u001b[0;34m/\u001b[0m\u001b[0;36m0\u001b[0m\u001b[0;34m)\u001b[0m\u001b[0;34m\u001b[0m\u001b[0;34m\u001b[0m\u001b[0m\n\u001b[0m",
      "\u001b[0;31mZeroDivisionError\u001b[0m: division by zero"
     ]
    }
   ],
   "source": [
    "print(5/0)"
   ]
  },
  {
   "cell_type": "code",
   "execution_count": 102,
   "id": "9cd13576",
   "metadata": {},
   "outputs": [
    {
     "ename": "TypeError",
     "evalue": "unsupported operand type(s) for +: 'int' and 'str'",
     "output_type": "error",
     "traceback": [
      "\u001b[0;31m---------------------------------------------------------------------------\u001b[0m",
      "\u001b[0;31mTypeError\u001b[0m                                 Traceback (most recent call last)",
      "\u001b[0;32m/var/folders/q_/k5zmb9hs78n7mhfrwqvnb1fh0000gn/T/ipykernel_51159/2202962270.py\u001b[0m in \u001b[0;36m<module>\u001b[0;34m\u001b[0m\n\u001b[1;32m      1\u001b[0m \u001b[0mx\u001b[0m\u001b[0;34m=\u001b[0m\u001b[0;36m5\u001b[0m\u001b[0;34m\u001b[0m\u001b[0;34m\u001b[0m\u001b[0m\n\u001b[1;32m      2\u001b[0m \u001b[0my\u001b[0m\u001b[0;34m=\u001b[0m\u001b[0;34m\"hello\"\u001b[0m\u001b[0;34m\u001b[0m\u001b[0;34m\u001b[0m\u001b[0m\n\u001b[0;32m----> 3\u001b[0;31m \u001b[0mz\u001b[0m\u001b[0;34m=\u001b[0m\u001b[0mx\u001b[0m\u001b[0;34m+\u001b[0m\u001b[0my\u001b[0m\u001b[0;34m\u001b[0m\u001b[0;34m\u001b[0m\u001b[0m\n\u001b[0m",
      "\u001b[0;31mTypeError\u001b[0m: unsupported operand type(s) for +: 'int' and 'str'"
     ]
    }
   ],
   "source": [
    "x=5\n",
    "y=\"hello\"\n",
    "z=x+y"
   ]
  },
  {
   "cell_type": "code",
   "execution_count": 103,
   "id": "3f4c8111",
   "metadata": {},
   "outputs": [
    {
     "name": "stdout",
     "output_type": "stream",
     "text": [
      "Error: can't add int and str\n"
     ]
    }
   ],
   "source": [
    "x=5\n",
    "y=\"hello\"\n",
    "\n",
    "try:\n",
    "    z=x+y\n",
    "except TypeError:\n",
    "    print(\"Error: can't add int and str\")"
   ]
  },
  {
   "cell_type": "code",
   "execution_count": 105,
   "id": "1411995d",
   "metadata": {},
   "outputs": [
    {
     "name": "stdout",
     "output_type": "stream",
     "text": [
      "Second variable:  2\n",
      "An error occured\n"
     ]
    }
   ],
   "source": [
    "list2=[1,2,3]\n",
    "try:\n",
    "    print(\"Second variable: \", list2[1])\n",
    "    print(\"Fourth variable: \", list2[3])\n",
    "except:\n",
    "    print(\"An error occured\")"
   ]
  },
  {
   "cell_type": "code",
   "execution_count": 104,
   "id": "7050c6bb",
   "metadata": {},
   "outputs": [
    {
     "ename": "IndexError",
     "evalue": "list index out of range",
     "output_type": "error",
     "traceback": [
      "\u001b[0;31m---------------------------------------------------------------------------\u001b[0m",
      "\u001b[0;31mIndexError\u001b[0m                                Traceback (most recent call last)",
      "\u001b[0;32m/var/folders/q_/k5zmb9hs78n7mhfrwqvnb1fh0000gn/T/ipykernel_51159/1576277846.py\u001b[0m in \u001b[0;36m<module>\u001b[0;34m\u001b[0m\n\u001b[1;32m      1\u001b[0m \u001b[0mlist2\u001b[0m\u001b[0;34m=\u001b[0m\u001b[0;34m[\u001b[0m\u001b[0;36m1\u001b[0m\u001b[0;34m,\u001b[0m\u001b[0;36m2\u001b[0m\u001b[0;34m,\u001b[0m\u001b[0;36m3\u001b[0m\u001b[0;34m]\u001b[0m\u001b[0;34m\u001b[0m\u001b[0;34m\u001b[0m\u001b[0m\n\u001b[0;32m----> 2\u001b[0;31m \u001b[0mprint\u001b[0m\u001b[0;34m(\u001b[0m\u001b[0;34m\"Fourth variable: \"\u001b[0m\u001b[0;34m,\u001b[0m \u001b[0mlist2\u001b[0m\u001b[0;34m[\u001b[0m\u001b[0;36m3\u001b[0m\u001b[0;34m]\u001b[0m\u001b[0;34m)\u001b[0m\u001b[0;34m\u001b[0m\u001b[0;34m\u001b[0m\u001b[0m\n\u001b[0m",
      "\u001b[0;31mIndexError\u001b[0m: list index out of range"
     ]
    }
   ],
   "source": [
    "list2=[1,2,3]\n",
    "print(\"Fourth variable: \", list2[3])\n"
   ]
  },
  {
   "cell_type": "code",
   "execution_count": 107,
   "id": "237c328e",
   "metadata": {},
   "outputs": [
    {
     "name": "stdout",
     "output_type": "stream",
     "text": [
      "-5.0\n",
      "a/b results 0\n"
     ]
    }
   ],
   "source": [
    "def test(a,b):\n",
    "    try:\n",
    "        c=(a+b)/(a-b)\n",
    "    except ZeroDivisionError:\n",
    "        print(\"a/b results 0\")\n",
    "    else:\n",
    "        print(c)\n",
    "test(2,3)\n",
    "test(3,3)\n",
    "        "
   ]
  },
  {
   "cell_type": "markdown",
   "id": "3bdcfd1c",
   "metadata": {},
   "source": [
    "## Create a simple calculator using classes\n",
    "(IP7)"
   ]
  },
  {
   "cell_type": "code",
   "execution_count": 59,
   "id": "6ab4b4b1",
   "metadata": {},
   "outputs": [
    {
     "name": "stdout",
     "output_type": "stream",
     "text": [
      "Enter first number: 3\n",
      "Enter second number: 6\n",
      "\n",
      "0. Exit\n",
      "1. Addition\n",
      "2. Subtraction\n",
      "3. Multiplication\n",
      "4. Division\n",
      "Enter your choice: 1\n",
      "Result: 9\n",
      "\n",
      "0. Exit\n",
      "1. Addition\n",
      "2. Subtraction\n",
      "3. Multiplication\n",
      "4. Division\n",
      "Enter your choice: 2\n",
      "Result: -3\n",
      "\n",
      "0. Exit\n",
      "1. Addition\n",
      "2. Subtraction\n",
      "3. Multiplication\n",
      "4. Division\n",
      "Enter your choice: 3\n",
      "Result: 18\n",
      "\n",
      "0. Exit\n",
      "1. Addition\n",
      "2. Subtraction\n",
      "3. Multiplication\n",
      "4. Division\n",
      "Enter your choice: 4\n",
      "Result: 0.5\n",
      "\n",
      "0. Exit\n",
      "1. Addition\n",
      "2. Subtraction\n",
      "3. Multiplication\n",
      "4. Division\n",
      "Enter your choice: 5\n",
      "Sorry invalid choice\n",
      "\n",
      "0. Exit\n",
      "1. Addition\n",
      "2. Subtraction\n",
      "3. Multiplication\n",
      "4. Division\n",
      "Enter your choice: 0\n",
      "Exit\n",
      "\n"
     ]
    }
   ],
   "source": [
    "class calculator():\n",
    "    def __init__(self,input1,input2):\n",
    "        self.input1=input1\n",
    "        self.input2=input2\n",
    "    def addition(self):\n",
    "        return self.input1+self.input2\n",
    "    def subtraction(self):\n",
    "        return self.input1-self.input2\n",
    "    def multiplication(self):\n",
    "        return self.input1*self.input2\n",
    "    def division(self):\n",
    "        return self.input1/self.input2\n",
    "    \n",
    "input_1=int(input(\"Enter first number: \"))\n",
    "input_2=int(input(\"Enter second number: \"))\n",
    "my_calc=calculator(input_1,input_2)\n",
    "\n",
    "choice=1\n",
    "while choice!=0:\n",
    "    print()\n",
    "    print(\"0. Exit\")\n",
    "    print(\"1. Addition\")\n",
    "    print(\"2. Subtraction\")\n",
    "    print(\"3. Multiplication\")\n",
    "    print(\"4. Division\")\n",
    "    choice=int(input(\"Enter your choice: \"))\n",
    "    \n",
    "    if choice==1:\n",
    "        print(f\"Result: {my_calc.addition()}\")\n",
    "    elif choice==2:\n",
    "        print(f\"Result: {my_calc.subtraction()}\")\n",
    "    elif choice==3:\n",
    "        print(f\"Result: {my_calc.multiplication()}\")\n",
    "    elif choice==4:\n",
    "        print(f\"Result: {my_calc.division()}\")\n",
    "    elif choice==0:\n",
    "        print(\"Exit\")\n",
    "    else:\n",
    "        print(\"Sorry invalid choice\")\n",
    "print()"
   ]
  },
  {
   "cell_type": "markdown",
   "id": "a907512f",
   "metadata": {},
   "source": [
    "## Use inheritance to create the square class from parent class rectangle"
   ]
  },
  {
   "cell_type": "code",
   "execution_count": 81,
   "id": "b054d577",
   "metadata": {},
   "outputs": [],
   "source": [
    "class rectangle():\n",
    "    def __init__(self,length,width):\n",
    "        self.length=length\n",
    "        self.width=width\n",
    "        \n",
    "    def area(self):\n",
    "        return self.length*self.width\n",
    "    \n",
    "    def perimeter(self):\n",
    "        return 2*(self.length+self.width)"
   ]
  },
  {
   "cell_type": "code",
   "execution_count": null,
   "id": "a380d347",
   "metadata": {},
   "outputs": [],
   "source": []
  },
  {
   "cell_type": "markdown",
   "id": "6009f469",
   "metadata": {},
   "source": [
    "## Create a parent class rectangle and two methods called area and perimeter"
   ]
  },
  {
   "cell_type": "markdown",
   "id": "5f53354d",
   "metadata": {},
   "source": [
    "## Create a child class square and test for two cases. Do method overloading for area and perimeter"
   ]
  },
  {
   "cell_type": "code",
   "execution_count": 82,
   "id": "cb44f17f",
   "metadata": {},
   "outputs": [],
   "source": [
    "class square(rectangle):\n",
    "    def __init__(self,length):\n",
    "        super().__init__(length,length)"
   ]
  },
  {
   "cell_type": "code",
   "execution_count": 83,
   "id": "2ad3c6c4",
   "metadata": {},
   "outputs": [
    {
     "name": "stdout",
     "output_type": "stream",
     "text": [
      "16\n",
      "16\n"
     ]
    }
   ],
   "source": [
    "square1=square(4)\n",
    "print(square1.area())\n",
    "print(square1.perimeter())"
   ]
  },
  {
   "cell_type": "markdown",
   "id": "0ec161b5",
   "metadata": {},
   "source": [
    "## ATM machine "
   ]
  },
  {
   "cell_type": "code",
   "execution_count": 119,
   "id": "267c3e25",
   "metadata": {},
   "outputs": [],
   "source": [
    "class bank_account:\n",
    "    def __init__(self):\n",
    "        self.balance=0\n",
    "        print(\"Hello welcome to the ATM machine\")\n",
    "    def deposit(self):\n",
    "        amount=float(input(\"Enter the amount you want to deposit: \"))\n",
    "        self.balance+=amount\n",
    "        print(\"\\n Amount deposited\", amount)\n",
    "    def withdraw(self):\n",
    "        amount=float(input(\"Enter the amount you want to withdraw: \"))\n",
    "        if self.balance>=amount:\n",
    "            self.balance-=amount\n",
    "            print(\"\\n You withdrawn\", amount)\n",
    "        else:\n",
    "            print(\"\\n Insufficient balance\")\n",
    "    def display(self):\n",
    "        print(\"The available balance is\", self.balance)"
   ]
  },
  {
   "cell_type": "code",
   "execution_count": 120,
   "id": "a6e40459",
   "metadata": {},
   "outputs": [
    {
     "name": "stdout",
     "output_type": "stream",
     "text": [
      "Hello welcome to the ATM machine\n",
      "The available balance is 0\n"
     ]
    }
   ],
   "source": [
    "sams_account=bank_account()\n",
    "sams_account.display()"
   ]
  },
  {
   "cell_type": "code",
   "execution_count": 121,
   "id": "5349965d",
   "metadata": {},
   "outputs": [
    {
     "name": "stdout",
     "output_type": "stream",
     "text": [
      "Enter the amount you want to deposit: 500\n",
      "\n",
      " Amount deposited 500.0\n"
     ]
    }
   ],
   "source": [
    "#deposit\n",
    "sams_account.deposit()"
   ]
  },
  {
   "cell_type": "code",
   "execution_count": 123,
   "id": "e1ef46b5",
   "metadata": {},
   "outputs": [
    {
     "name": "stdout",
     "output_type": "stream",
     "text": [
      "Enter the amount you want to withdraw: 200\n",
      "\n",
      " You withdrawn 200.0\n"
     ]
    }
   ],
   "source": [
    "sams_account.withdraw()"
   ]
  },
  {
   "cell_type": "code",
   "execution_count": 124,
   "id": "853f6942",
   "metadata": {},
   "outputs": [
    {
     "name": "stdout",
     "output_type": "stream",
     "text": [
      "The available balance is 300.0\n"
     ]
    }
   ],
   "source": [
    "sams_account.display()"
   ]
  },
  {
   "cell_type": "code",
   "execution_count": null,
   "id": "2f635589",
   "metadata": {},
   "outputs": [],
   "source": []
  }
 ],
 "metadata": {
  "kernelspec": {
   "display_name": "Python 3 (ipykernel)",
   "language": "python",
   "name": "python3"
  },
  "language_info": {
   "codemirror_mode": {
    "name": "ipython",
    "version": 3
   },
   "file_extension": ".py",
   "mimetype": "text/x-python",
   "name": "python",
   "nbconvert_exporter": "python",
   "pygments_lexer": "ipython3",
   "version": "3.9.13"
  }
 },
 "nbformat": 4,
 "nbformat_minor": 5
}
